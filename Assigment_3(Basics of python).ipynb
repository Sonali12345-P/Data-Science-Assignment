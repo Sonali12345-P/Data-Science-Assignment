{
  "nbformat": 4,
  "nbformat_minor": 0,
  "metadata": {
    "colab": {
      "provenance": [],
      "toc_visible": true
    },
    "kernelspec": {
      "name": "python3",
      "display_name": "Python 3"
    },
    "language_info": {
      "name": "python"
    }
  },
  "cells": [
    {
      "cell_type": "code",
      "execution_count": 1,
      "metadata": {
        "id": "Rqg-U8aMKpB7",
        "colab": {
          "base_uri": "https://localhost:8080/"
        },
        "outputId": "629cb8b1-3b92-43c9-a6b8-ea4e91f99486"
      },
      "outputs": [
        {
          "output_type": "stream",
          "name": "stdout",
          "text": [
            "enter a number:3\n",
            "3 is a prime number\n"
          ]
        }
      ],
      "source": [
        "num = int(input(\"enter a number:\"))\n",
        "if num > 1:\n",
        "\n",
        "   for i in range(2, num//2):\n",
        "\n",
        "       if (num % i) == 0:\n",
        "           print(num, \"is not a prime number\")\n",
        "           break\n",
        "   else:\n",
        "       print(num, \"is a prime number\")\n",
        "\n",
        "else:\n",
        "   print(num, \"is not a prime number\")"
      ]
    },
    {
      "cell_type": "code",
      "source": [
        "import random\n",
        "\n",
        "num1 = random.randint(1, 10)\n",
        "num2 = random.randint(1, 10)\n",
        "\n",
        "\n",
        "user_answer = int(input(f\"What is {num1} x {num2}? \"))\n",
        "correct_answer = num1 * num2\n",
        "\n",
        "\n",
        "if user_answer == correct_answer:\n",
        "    print(\"Correct! Well done!\")\n",
        "else:\n",
        "    print(f\"Incorrect. The correct answer is {correct_answer}.\")"
      ],
      "metadata": {
        "id": "auy5KwCmKpm8",
        "colab": {
          "base_uri": "https://localhost:8080/"
        },
        "outputId": "c90ac420-13ad-4b85-ad2d-b2e32bbcef82"
      },
      "execution_count": 2,
      "outputs": [
        {
          "output_type": "stream",
          "name": "stdout",
          "text": [
            "What is 7 x 9? 63\n",
            "Correct! Well done!\n"
          ]
        }
      ]
    },
    {
      "cell_type": "code",
      "source": [
        "for num in range(100, 201):\n",
        "    if num % 2 == 0:  # Check if the number is even\n",
        "        print(f\"Square of {num} is {num**2}\")"
      ],
      "metadata": {
        "id": "TJW3cABqKprc",
        "colab": {
          "base_uri": "https://localhost:8080/"
        },
        "outputId": "0c4da4ee-836b-4d4a-e5b3-97927f3b7e61"
      },
      "execution_count": 4,
      "outputs": [
        {
          "output_type": "stream",
          "name": "stdout",
          "text": [
            "Square of 100 is 10000\n",
            "Square of 102 is 10404\n",
            "Square of 104 is 10816\n",
            "Square of 106 is 11236\n",
            "Square of 108 is 11664\n",
            "Square of 110 is 12100\n",
            "Square of 112 is 12544\n",
            "Square of 114 is 12996\n",
            "Square of 116 is 13456\n",
            "Square of 118 is 13924\n",
            "Square of 120 is 14400\n",
            "Square of 122 is 14884\n",
            "Square of 124 is 15376\n",
            "Square of 126 is 15876\n",
            "Square of 128 is 16384\n",
            "Square of 130 is 16900\n",
            "Square of 132 is 17424\n",
            "Square of 134 is 17956\n",
            "Square of 136 is 18496\n",
            "Square of 138 is 19044\n",
            "Square of 140 is 19600\n",
            "Square of 142 is 20164\n",
            "Square of 144 is 20736\n",
            "Square of 146 is 21316\n",
            "Square of 148 is 21904\n",
            "Square of 150 is 22500\n",
            "Square of 152 is 23104\n",
            "Square of 154 is 23716\n",
            "Square of 156 is 24336\n",
            "Square of 158 is 24964\n",
            "Square of 160 is 25600\n",
            "Square of 162 is 26244\n",
            "Square of 164 is 26896\n",
            "Square of 166 is 27556\n",
            "Square of 168 is 28224\n",
            "Square of 170 is 28900\n",
            "Square of 172 is 29584\n",
            "Square of 174 is 30276\n",
            "Square of 176 is 30976\n",
            "Square of 178 is 31684\n",
            "Square of 180 is 32400\n",
            "Square of 182 is 33124\n",
            "Square of 184 is 33856\n",
            "Square of 186 is 34596\n",
            "Square of 188 is 35344\n",
            "Square of 190 is 36100\n",
            "Square of 192 is 36864\n",
            "Square of 194 is 37636\n",
            "Square of 196 is 38416\n",
            "Square of 198 is 39204\n",
            "Square of 200 is 40000\n"
          ]
        }
      ]
    },
    {
      "cell_type": "code",
      "source": [
        "from collections import Counter\n",
        "import re\n",
        "\n",
        "def count_word_occurrences(text):\n",
        "    words = re.findall(r'\\b\\w+\\b', text.lower())  # Extract words and convert to lowercase\n",
        "    word_counts = Counter(words)  # Count occurrences\n",
        "\n",
        "    for word, count in word_counts.items():\n",
        "        print(f\"'{word}'={count}\")\n",
        "\n",
        "input_text = \"sonali palkhe. \"\n",
        "count_word_occurrences(input_text)"
      ],
      "metadata": {
        "colab": {
          "base_uri": "https://localhost:8080/"
        },
        "id": "3Loz86j_NRsj",
        "outputId": "602a7a0e-adba-4db1-bd5b-55a6105e3d19"
      },
      "execution_count": 13,
      "outputs": [
        {
          "output_type": "stream",
          "name": "stdout",
          "text": [
            "'sonali'=1\n",
            "'palkhe'=1\n"
          ]
        }
      ]
    },
    {
      "cell_type": "code",
      "source": [
        "def is_palindrome(s):\n",
        "    return s == s[::-1]  # Compare string with its reverse\n",
        "\n",
        "# Example usage\n",
        "print(is_palindrome(\"sonali\"))\n",
        "print(is_palindrome(\"racecar\"))\n",
        "print(is_palindrome(\"hello\"))"
      ],
      "metadata": {
        "colab": {
          "base_uri": "https://localhost:8080/"
        },
        "id": "60_5oUilS2ZI",
        "outputId": "fa1f5d4c-7803-451d-91c9-f2685821773d"
      },
      "execution_count": 15,
      "outputs": [
        {
          "output_type": "stream",
          "name": "stdout",
          "text": [
            "False\n",
            "True\n",
            "False\n"
          ]
        }
      ]
    },
    {
      "cell_type": "code",
      "source": [],
      "metadata": {
        "id": "SpunHo00NRxq"
      },
      "execution_count": null,
      "outputs": []
    },
    {
      "cell_type": "code",
      "source": [],
      "metadata": {
        "id": "CpfWBn1_NR0o"
      },
      "execution_count": null,
      "outputs": []
    },
    {
      "cell_type": "code",
      "source": [],
      "metadata": {
        "id": "Kz0CtONfNR3O"
      },
      "execution_count": null,
      "outputs": []
    },
    {
      "cell_type": "code",
      "source": [],
      "metadata": {
        "id": "BnklRKfDNR6S"
      },
      "execution_count": null,
      "outputs": []
    },
    {
      "cell_type": "code",
      "source": [],
      "metadata": {
        "id": "TjYI5l3gNR8k"
      },
      "execution_count": null,
      "outputs": []
    },
    {
      "cell_type": "code",
      "source": [],
      "metadata": {
        "id": "AzqDJm0yNR_G"
      },
      "execution_count": null,
      "outputs": []
    },
    {
      "cell_type": "code",
      "source": [],
      "metadata": {
        "id": "-d4QFJT7NSCB"
      },
      "execution_count": null,
      "outputs": []
    },
    {
      "cell_type": "code",
      "source": [],
      "metadata": {
        "id": "lXCmgITBNSEw"
      },
      "execution_count": null,
      "outputs": []
    },
    {
      "cell_type": "code",
      "source": [],
      "metadata": {
        "id": "qMPjA4vnNSHU"
      },
      "execution_count": null,
      "outputs": []
    },
    {
      "cell_type": "code",
      "source": [],
      "metadata": {
        "id": "Q2CQKm4BNSKc"
      },
      "execution_count": null,
      "outputs": []
    },
    {
      "cell_type": "code",
      "source": [],
      "metadata": {
        "id": "gYrM8FI3NSNN"
      },
      "execution_count": null,
      "outputs": []
    },
    {
      "cell_type": "code",
      "source": [],
      "metadata": {
        "id": "x5bONZQfNSWY"
      },
      "execution_count": null,
      "outputs": []
    },
    {
      "cell_type": "code",
      "source": [],
      "metadata": {
        "id": "JjvAb4xSNSZF"
      },
      "execution_count": null,
      "outputs": []
    },
    {
      "cell_type": "code",
      "source": [],
      "metadata": {
        "id": "-YvaDafuNSbo"
      },
      "execution_count": null,
      "outputs": []
    },
    {
      "cell_type": "code",
      "source": [],
      "metadata": {
        "id": "sA_BkNN1NSeM"
      },
      "execution_count": null,
      "outputs": []
    },
    {
      "cell_type": "code",
      "source": [],
      "metadata": {
        "id": "Q39pGD-WNSgk"
      },
      "execution_count": null,
      "outputs": []
    },
    {
      "cell_type": "code",
      "source": [],
      "metadata": {
        "id": "uv7gooX_NSjl"
      },
      "execution_count": null,
      "outputs": []
    },
    {
      "cell_type": "code",
      "source": [],
      "metadata": {
        "id": "Wwu3Anp_NSmP"
      },
      "execution_count": null,
      "outputs": []
    },
    {
      "cell_type": "code",
      "source": [],
      "metadata": {
        "id": "5LXiEA0cNSo_"
      },
      "execution_count": null,
      "outputs": []
    },
    {
      "cell_type": "code",
      "source": [],
      "metadata": {
        "id": "U3w9iOgVNSrp"
      },
      "execution_count": null,
      "outputs": []
    },
    {
      "cell_type": "code",
      "source": [],
      "metadata": {
        "id": "H_d3ad6NNSuR"
      },
      "execution_count": null,
      "outputs": []
    },
    {
      "cell_type": "code",
      "source": [],
      "metadata": {
        "id": "NWSNYvprNSxs"
      },
      "execution_count": null,
      "outputs": []
    },
    {
      "cell_type": "code",
      "source": [],
      "metadata": {
        "id": "g10CSyeLKpv8"
      },
      "execution_count": null,
      "outputs": []
    },
    {
      "cell_type": "code",
      "source": [],
      "metadata": {
        "id": "nKTMKctSKpyP"
      },
      "execution_count": null,
      "outputs": []
    },
    {
      "cell_type": "code",
      "source": [],
      "metadata": {
        "id": "XRlg0B92Kp1A"
      },
      "execution_count": null,
      "outputs": []
    },
    {
      "cell_type": "code",
      "source": [],
      "metadata": {
        "id": "qTuTAbp9Kp3Z"
      },
      "execution_count": null,
      "outputs": []
    },
    {
      "cell_type": "code",
      "source": [],
      "metadata": {
        "id": "d8RRUVuCKp5i"
      },
      "execution_count": null,
      "outputs": []
    }
  ]
}